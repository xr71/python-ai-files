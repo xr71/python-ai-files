{
 "metadata": {
  "language_info": {
   "codemirror_mode": {
    "name": "ipython",
    "version": 3
   },
   "file_extension": ".py",
   "mimetype": "text/x-python",
   "name": "python",
   "nbconvert_exporter": "python",
   "pygments_lexer": "ipython3",
   "version": "3.5.4-final"
  },
  "orig_nbformat": 2,
  "kernelspec": {
   "name": "python35464bitaindenvconda4c9f06bdf56b441eb5e13ab3c1881a00",
   "display_name": "Python 3.5.4 64-bit ('aindenv': conda)"
  }
 },
 "nbformat": 4,
 "nbformat_minor": 2,
 "cells": [
  {
   "cell_type": "code",
   "execution_count": 21,
   "metadata": {},
   "outputs": [],
   "source": [
    "grid = \"..3.2.6..9..3.5..1..18.64....81.29..7.......8..67.82....26.95..8..2.3..9..5.1.3..\""
   ]
  },
  {
   "cell_type": "code",
   "execution_count": 61,
   "metadata": {},
   "outputs": [],
   "source": [
    "rows = 'ABCDEFGHI'\n",
    "cols = '123456789'\n",
    "\n",
    "def cross(rows, columns):\n",
    "    return [s+t for s in rows for t in columns]\n",
    "\n",
    "boxes = cross(rows, cols)\n",
    "\n",
    "row_units = [cross(r, cols) for r in rows]\n",
    "column_units = [cross(rows, c) for c in cols]\n",
    "square_units = [cross(rs, cs) for rs in ('ABC','DEF','GHI') for cs in ('123','456','789')]\n",
    "unitlist = row_units + column_units + square_units\n",
    "units = dict((s, [u for u in unitlist if s in u]) for s in boxes)\n",
    "peers = dict((s, set(sum(units[s],[]))-set([s])) for s in boxes)"
   ]
  },
  {
   "cell_type": "code",
   "execution_count": 80,
   "metadata": {},
   "outputs": [],
   "source": [
    "diag1 = [r+c for r,c in zip(rows, cols)]"
   ]
  },
  {
   "cell_type": "code",
   "execution_count": 83,
   "metadata": {},
   "outputs": [],
   "source": [
    "diag2 = [r+c for r,c, in zip(rows, sorted(cols, reverse=True))]"
   ]
  },
  {
   "cell_type": "code",
   "execution_count": 89,
   "metadata": {},
   "outputs": [
    {
     "output_type": "execute_result",
     "data": {
      "text/plain": "[['A1', 'B2', 'C3', 'D4', 'E5', 'F6', 'G7', 'H8', 'I9'],\n ['A9', 'B8', 'C7', 'D6', 'E5', 'F4', 'G3', 'H2', 'I1']]"
     },
     "metadata": {},
     "execution_count": 89
    }
   ],
   "source": [
    "[diag1, diag2]"
   ]
  },
  {
   "cell_type": "code",
   "execution_count": 86,
   "metadata": {},
   "outputs": [
    {
     "output_type": "execute_result",
     "data": {
      "text/plain": "[['A1', 'A2', 'A3', 'A4', 'A5', 'A6', 'A7', 'A8', 'A9'],\n ['B1', 'B2', 'B3', 'B4', 'B5', 'B6', 'B7', 'B8', 'B9'],\n ['C1', 'C2', 'C3', 'C4', 'C5', 'C6', 'C7', 'C8', 'C9'],\n ['D1', 'D2', 'D3', 'D4', 'D5', 'D6', 'D7', 'D8', 'D9'],\n ['E1', 'E2', 'E3', 'E4', 'E5', 'E6', 'E7', 'E8', 'E9'],\n ['F1', 'F2', 'F3', 'F4', 'F5', 'F6', 'F7', 'F8', 'F9'],\n ['G1', 'G2', 'G3', 'G4', 'G5', 'G6', 'G7', 'G8', 'G9'],\n ['H1', 'H2', 'H3', 'H4', 'H5', 'H6', 'H7', 'H8', 'H9'],\n ['I1', 'I2', 'I3', 'I4', 'I5', 'I6', 'I7', 'I8', 'I9']]"
     },
     "metadata": {},
     "execution_count": 86
    }
   ],
   "source": [
    "row_units"
   ]
  },
  {
   "cell_type": "code",
   "execution_count": 92,
   "metadata": {},
   "outputs": [],
   "source": [
    "unitlist2 = row_units + column_units + square_units + [diag1] + [diag2]"
   ]
  },
  {
   "cell_type": "code",
   "execution_count": 93,
   "metadata": {},
   "outputs": [
    {
     "output_type": "execute_result",
     "data": {
      "text/plain": "[['A1', 'A2', 'A3', 'A4', 'A5', 'A6', 'A7', 'A8', 'A9'],\n ['B1', 'B2', 'B3', 'B4', 'B5', 'B6', 'B7', 'B8', 'B9'],\n ['C1', 'C2', 'C3', 'C4', 'C5', 'C6', 'C7', 'C8', 'C9'],\n ['D1', 'D2', 'D3', 'D4', 'D5', 'D6', 'D7', 'D8', 'D9'],\n ['E1', 'E2', 'E3', 'E4', 'E5', 'E6', 'E7', 'E8', 'E9'],\n ['F1', 'F2', 'F3', 'F4', 'F5', 'F6', 'F7', 'F8', 'F9'],\n ['G1', 'G2', 'G3', 'G4', 'G5', 'G6', 'G7', 'G8', 'G9'],\n ['H1', 'H2', 'H3', 'H4', 'H5', 'H6', 'H7', 'H8', 'H9'],\n ['I1', 'I2', 'I3', 'I4', 'I5', 'I6', 'I7', 'I8', 'I9'],\n ['A1', 'B1', 'C1', 'D1', 'E1', 'F1', 'G1', 'H1', 'I1'],\n ['A2', 'B2', 'C2', 'D2', 'E2', 'F2', 'G2', 'H2', 'I2'],\n ['A3', 'B3', 'C3', 'D3', 'E3', 'F3', 'G3', 'H3', 'I3'],\n ['A4', 'B4', 'C4', 'D4', 'E4', 'F4', 'G4', 'H4', 'I4'],\n ['A5', 'B5', 'C5', 'D5', 'E5', 'F5', 'G5', 'H5', 'I5'],\n ['A6', 'B6', 'C6', 'D6', 'E6', 'F6', 'G6', 'H6', 'I6'],\n ['A7', 'B7', 'C7', 'D7', 'E7', 'F7', 'G7', 'H7', 'I7'],\n ['A8', 'B8', 'C8', 'D8', 'E8', 'F8', 'G8', 'H8', 'I8'],\n ['A9', 'B9', 'C9', 'D9', 'E9', 'F9', 'G9', 'H9', 'I9'],\n ['A1', 'A2', 'A3', 'B1', 'B2', 'B3', 'C1', 'C2', 'C3'],\n ['A4', 'A5', 'A6', 'B4', 'B5', 'B6', 'C4', 'C5', 'C6'],\n ['A7', 'A8', 'A9', 'B7', 'B8', 'B9', 'C7', 'C8', 'C9'],\n ['D1', 'D2', 'D3', 'E1', 'E2', 'E3', 'F1', 'F2', 'F3'],\n ['D4', 'D5', 'D6', 'E4', 'E5', 'E6', 'F4', 'F5', 'F6'],\n ['D7', 'D8', 'D9', 'E7', 'E8', 'E9', 'F7', 'F8', 'F9'],\n ['G1', 'G2', 'G3', 'H1', 'H2', 'H3', 'I1', 'I2', 'I3'],\n ['G4', 'G5', 'G6', 'H4', 'H5', 'H6', 'I4', 'I5', 'I6'],\n ['G7', 'G8', 'G9', 'H7', 'H8', 'H9', 'I7', 'I8', 'I9'],\n ['A1', 'B2', 'C3', 'D4', 'E5', 'F6', 'G7', 'H8', 'I9'],\n ['A9', 'B8', 'C7', 'D6', 'E5', 'F4', 'G3', 'H2', 'I1']]"
     },
     "metadata": {},
     "execution_count": 93
    }
   ],
   "source": [
    "unitlist2"
   ]
  },
  {
   "cell_type": "code",
   "execution_count": 94,
   "metadata": {},
   "outputs": [],
   "source": [
    "units2 = dict((s, [u for u in unitlist2 if s in u]) for s in boxes)\n",
    "peers2 = dict((s, set(sum(units2[s],[]))-set([s])) for s in boxes)"
   ]
  },
  {
   "cell_type": "code",
   "execution_count": 95,
   "metadata": {},
   "outputs": [
    {
     "output_type": "execute_result",
     "data": {
      "text/plain": "{'A1': {'A2',\n  'A3',\n  'A4',\n  'A5',\n  'A6',\n  'A7',\n  'A8',\n  'A9',\n  'B1',\n  'B2',\n  'B3',\n  'C1',\n  'C2',\n  'C3',\n  'D1',\n  'D4',\n  'E1',\n  'E5',\n  'F1',\n  'F6',\n  'G1',\n  'G7',\n  'H1',\n  'H8',\n  'I1',\n  'I9'},\n 'A2': {'A1',\n  'A3',\n  'A4',\n  'A5',\n  'A6',\n  'A7',\n  'A8',\n  'A9',\n  'B1',\n  'B2',\n  'B3',\n  'C1',\n  'C2',\n  'C3',\n  'D2',\n  'E2',\n  'F2',\n  'G2',\n  'H2',\n  'I2'},\n 'A3': {'A1',\n  'A2',\n  'A4',\n  'A5',\n  'A6',\n  'A7',\n  'A8',\n  'A9',\n  'B1',\n  'B2',\n  'B3',\n  'C1',\n  'C2',\n  'C3',\n  'D3',\n  'E3',\n  'F3',\n  'G3',\n  'H3',\n  'I3'},\n 'A4': {'A1',\n  'A2',\n  'A3',\n  'A5',\n  'A6',\n  'A7',\n  'A8',\n  'A9',\n  'B4',\n  'B5',\n  'B6',\n  'C4',\n  'C5',\n  'C6',\n  'D4',\n  'E4',\n  'F4',\n  'G4',\n  'H4',\n  'I4'},\n 'A5': {'A1',\n  'A2',\n  'A3',\n  'A4',\n  'A6',\n  'A7',\n  'A8',\n  'A9',\n  'B4',\n  'B5',\n  'B6',\n  'C4',\n  'C5',\n  'C6',\n  'D5',\n  'E5',\n  'F5',\n  'G5',\n  'H5',\n  'I5'},\n 'A6': {'A1',\n  'A2',\n  'A3',\n  'A4',\n  'A5',\n  'A7',\n  'A8',\n  'A9',\n  'B4',\n  'B5',\n  'B6',\n  'C4',\n  'C5',\n  'C6',\n  'D6',\n  'E6',\n  'F6',\n  'G6',\n  'H6',\n  'I6'},\n 'A7': {'A1',\n  'A2',\n  'A3',\n  'A4',\n  'A5',\n  'A6',\n  'A8',\n  'A9',\n  'B7',\n  'B8',\n  'B9',\n  'C7',\n  'C8',\n  'C9',\n  'D7',\n  'E7',\n  'F7',\n  'G7',\n  'H7',\n  'I7'},\n 'A8': {'A1',\n  'A2',\n  'A3',\n  'A4',\n  'A5',\n  'A6',\n  'A7',\n  'A9',\n  'B7',\n  'B8',\n  'B9',\n  'C7',\n  'C8',\n  'C9',\n  'D8',\n  'E8',\n  'F8',\n  'G8',\n  'H8',\n  'I8'},\n 'A9': {'A1',\n  'A2',\n  'A3',\n  'A4',\n  'A5',\n  'A6',\n  'A7',\n  'A8',\n  'B7',\n  'B8',\n  'B9',\n  'C7',\n  'C8',\n  'C9',\n  'D6',\n  'D9',\n  'E5',\n  'E9',\n  'F4',\n  'F9',\n  'G3',\n  'G9',\n  'H2',\n  'H9',\n  'I1',\n  'I9'},\n 'B1': {'A1',\n  'A2',\n  'A3',\n  'B2',\n  'B3',\n  'B4',\n  'B5',\n  'B6',\n  'B7',\n  'B8',\n  'B9',\n  'C1',\n  'C2',\n  'C3',\n  'D1',\n  'E1',\n  'F1',\n  'G1',\n  'H1',\n  'I1'},\n 'B2': {'A1',\n  'A2',\n  'A3',\n  'B1',\n  'B3',\n  'B4',\n  'B5',\n  'B6',\n  'B7',\n  'B8',\n  'B9',\n  'C1',\n  'C2',\n  'C3',\n  'D2',\n  'D4',\n  'E2',\n  'E5',\n  'F2',\n  'F6',\n  'G2',\n  'G7',\n  'H2',\n  'H8',\n  'I2',\n  'I9'},\n 'B3': {'A1',\n  'A2',\n  'A3',\n  'B1',\n  'B2',\n  'B4',\n  'B5',\n  'B6',\n  'B7',\n  'B8',\n  'B9',\n  'C1',\n  'C2',\n  'C3',\n  'D3',\n  'E3',\n  'F3',\n  'G3',\n  'H3',\n  'I3'},\n 'B4': {'A4',\n  'A5',\n  'A6',\n  'B1',\n  'B2',\n  'B3',\n  'B5',\n  'B6',\n  'B7',\n  'B8',\n  'B9',\n  'C4',\n  'C5',\n  'C6',\n  'D4',\n  'E4',\n  'F4',\n  'G4',\n  'H4',\n  'I4'},\n 'B5': {'A4',\n  'A5',\n  'A6',\n  'B1',\n  'B2',\n  'B3',\n  'B4',\n  'B6',\n  'B7',\n  'B8',\n  'B9',\n  'C4',\n  'C5',\n  'C6',\n  'D5',\n  'E5',\n  'F5',\n  'G5',\n  'H5',\n  'I5'},\n 'B6': {'A4',\n  'A5',\n  'A6',\n  'B1',\n  'B2',\n  'B3',\n  'B4',\n  'B5',\n  'B7',\n  'B8',\n  'B9',\n  'C4',\n  'C5',\n  'C6',\n  'D6',\n  'E6',\n  'F6',\n  'G6',\n  'H6',\n  'I6'},\n 'B7': {'A7',\n  'A8',\n  'A9',\n  'B1',\n  'B2',\n  'B3',\n  'B4',\n  'B5',\n  'B6',\n  'B8',\n  'B9',\n  'C7',\n  'C8',\n  'C9',\n  'D7',\n  'E7',\n  'F7',\n  'G7',\n  'H7',\n  'I7'},\n 'B8': {'A7',\n  'A8',\n  'A9',\n  'B1',\n  'B2',\n  'B3',\n  'B4',\n  'B5',\n  'B6',\n  'B7',\n  'B9',\n  'C7',\n  'C8',\n  'C9',\n  'D6',\n  'D8',\n  'E5',\n  'E8',\n  'F4',\n  'F8',\n  'G3',\n  'G8',\n  'H2',\n  'H8',\n  'I1',\n  'I8'},\n 'B9': {'A7',\n  'A8',\n  'A9',\n  'B1',\n  'B2',\n  'B3',\n  'B4',\n  'B5',\n  'B6',\n  'B7',\n  'B8',\n  'C7',\n  'C8',\n  'C9',\n  'D9',\n  'E9',\n  'F9',\n  'G9',\n  'H9',\n  'I9'},\n 'C1': {'A1',\n  'A2',\n  'A3',\n  'B1',\n  'B2',\n  'B3',\n  'C2',\n  'C3',\n  'C4',\n  'C5',\n  'C6',\n  'C7',\n  'C8',\n  'C9',\n  'D1',\n  'E1',\n  'F1',\n  'G1',\n  'H1',\n  'I1'},\n 'C2': {'A1',\n  'A2',\n  'A3',\n  'B1',\n  'B2',\n  'B3',\n  'C1',\n  'C3',\n  'C4',\n  'C5',\n  'C6',\n  'C7',\n  'C8',\n  'C9',\n  'D2',\n  'E2',\n  'F2',\n  'G2',\n  'H2',\n  'I2'},\n 'C3': {'A1',\n  'A2',\n  'A3',\n  'B1',\n  'B2',\n  'B3',\n  'C1',\n  'C2',\n  'C4',\n  'C5',\n  'C6',\n  'C7',\n  'C8',\n  'C9',\n  'D3',\n  'D4',\n  'E3',\n  'E5',\n  'F3',\n  'F6',\n  'G3',\n  'G7',\n  'H3',\n  'H8',\n  'I3',\n  'I9'},\n 'C4': {'A4',\n  'A5',\n  'A6',\n  'B4',\n  'B5',\n  'B6',\n  'C1',\n  'C2',\n  'C3',\n  'C5',\n  'C6',\n  'C7',\n  'C8',\n  'C9',\n  'D4',\n  'E4',\n  'F4',\n  'G4',\n  'H4',\n  'I4'},\n 'C5': {'A4',\n  'A5',\n  'A6',\n  'B4',\n  'B5',\n  'B6',\n  'C1',\n  'C2',\n  'C3',\n  'C4',\n  'C6',\n  'C7',\n  'C8',\n  'C9',\n  'D5',\n  'E5',\n  'F5',\n  'G5',\n  'H5',\n  'I5'},\n 'C6': {'A4',\n  'A5',\n  'A6',\n  'B4',\n  'B5',\n  'B6',\n  'C1',\n  'C2',\n  'C3',\n  'C4',\n  'C5',\n  'C7',\n  'C8',\n  'C9',\n  'D6',\n  'E6',\n  'F6',\n  'G6',\n  'H6',\n  'I6'},\n 'C7': {'A7',\n  'A8',\n  'A9',\n  'B7',\n  'B8',\n  'B9',\n  'C1',\n  'C2',\n  'C3',\n  'C4',\n  'C5',\n  'C6',\n  'C8',\n  'C9',\n  'D6',\n  'D7',\n  'E5',\n  'E7',\n  'F4',\n  'F7',\n  'G3',\n  'G7',\n  'H2',\n  'H7',\n  'I1',\n  'I7'},\n 'C8': {'A7',\n  'A8',\n  'A9',\n  'B7',\n  'B8',\n  'B9',\n  'C1',\n  'C2',\n  'C3',\n  'C4',\n  'C5',\n  'C6',\n  'C7',\n  'C9',\n  'D8',\n  'E8',\n  'F8',\n  'G8',\n  'H8',\n  'I8'},\n 'C9': {'A7',\n  'A8',\n  'A9',\n  'B7',\n  'B8',\n  'B9',\n  'C1',\n  'C2',\n  'C3',\n  'C4',\n  'C5',\n  'C6',\n  'C7',\n  'C8',\n  'D9',\n  'E9',\n  'F9',\n  'G9',\n  'H9',\n  'I9'},\n 'D1': {'A1',\n  'B1',\n  'C1',\n  'D2',\n  'D3',\n  'D4',\n  'D5',\n  'D6',\n  'D7',\n  'D8',\n  'D9',\n  'E1',\n  'E2',\n  'E3',\n  'F1',\n  'F2',\n  'F3',\n  'G1',\n  'H1',\n  'I1'},\n 'D2': {'A2',\n  'B2',\n  'C2',\n  'D1',\n  'D3',\n  'D4',\n  'D5',\n  'D6',\n  'D7',\n  'D8',\n  'D9',\n  'E1',\n  'E2',\n  'E3',\n  'F1',\n  'F2',\n  'F3',\n  'G2',\n  'H2',\n  'I2'},\n 'D3': {'A3',\n  'B3',\n  'C3',\n  'D1',\n  'D2',\n  'D4',\n  'D5',\n  'D6',\n  'D7',\n  'D8',\n  'D9',\n  'E1',\n  'E2',\n  'E3',\n  'F1',\n  'F2',\n  'F3',\n  'G3',\n  'H3',\n  'I3'},\n 'D4': {'A1',\n  'A4',\n  'B2',\n  'B4',\n  'C3',\n  'C4',\n  'D1',\n  'D2',\n  'D3',\n  'D5',\n  'D6',\n  'D7',\n  'D8',\n  'D9',\n  'E4',\n  'E5',\n  'E6',\n  'F4',\n  'F5',\n  'F6',\n  'G4',\n  'G7',\n  'H4',\n  'H8',\n  'I4',\n  'I9'},\n 'D5': {'A5',\n  'B5',\n  'C5',\n  'D1',\n  'D2',\n  'D3',\n  'D4',\n  'D6',\n  'D7',\n  'D8',\n  'D9',\n  'E4',\n  'E5',\n  'E6',\n  'F4',\n  'F5',\n  'F6',\n  'G5',\n  'H5',\n  'I5'},\n 'D6': {'A6',\n  'A9',\n  'B6',\n  'B8',\n  'C6',\n  'C7',\n  'D1',\n  'D2',\n  'D3',\n  'D4',\n  'D5',\n  'D7',\n  'D8',\n  'D9',\n  'E4',\n  'E5',\n  'E6',\n  'F4',\n  'F5',\n  'F6',\n  'G3',\n  'G6',\n  'H2',\n  'H6',\n  'I1',\n  'I6'},\n 'D7': {'A7',\n  'B7',\n  'C7',\n  'D1',\n  'D2',\n  'D3',\n  'D4',\n  'D5',\n  'D6',\n  'D8',\n  'D9',\n  'E7',\n  'E8',\n  'E9',\n  'F7',\n  'F8',\n  'F9',\n  'G7',\n  'H7',\n  'I7'},\n 'D8': {'A8',\n  'B8',\n  'C8',\n  'D1',\n  'D2',\n  'D3',\n  'D4',\n  'D5',\n  'D6',\n  'D7',\n  'D9',\n  'E7',\n  'E8',\n  'E9',\n  'F7',\n  'F8',\n  'F9',\n  'G8',\n  'H8',\n  'I8'},\n 'D9': {'A9',\n  'B9',\n  'C9',\n  'D1',\n  'D2',\n  'D3',\n  'D4',\n  'D5',\n  'D6',\n  'D7',\n  'D8',\n  'E7',\n  'E8',\n  'E9',\n  'F7',\n  'F8',\n  'F9',\n  'G9',\n  'H9',\n  'I9'},\n 'E1': {'A1',\n  'B1',\n  'C1',\n  'D1',\n  'D2',\n  'D3',\n  'E2',\n  'E3',\n  'E4',\n  'E5',\n  'E6',\n  'E7',\n  'E8',\n  'E9',\n  'F1',\n  'F2',\n  'F3',\n  'G1',\n  'H1',\n  'I1'},\n 'E2': {'A2',\n  'B2',\n  'C2',\n  'D1',\n  'D2',\n  'D3',\n  'E1',\n  'E3',\n  'E4',\n  'E5',\n  'E6',\n  'E7',\n  'E8',\n  'E9',\n  'F1',\n  'F2',\n  'F3',\n  'G2',\n  'H2',\n  'I2'},\n 'E3': {'A3',\n  'B3',\n  'C3',\n  'D1',\n  'D2',\n  'D3',\n  'E1',\n  'E2',\n  'E4',\n  'E5',\n  'E6',\n  'E7',\n  'E8',\n  'E9',\n  'F1',\n  'F2',\n  'F3',\n  'G3',\n  'H3',\n  'I3'},\n 'E4': {'A4',\n  'B4',\n  'C4',\n  'D4',\n  'D5',\n  'D6',\n  'E1',\n  'E2',\n  'E3',\n  'E5',\n  'E6',\n  'E7',\n  'E8',\n  'E9',\n  'F4',\n  'F5',\n  'F6',\n  'G4',\n  'H4',\n  'I4'},\n 'E5': {'A1',\n  'A5',\n  'A9',\n  'B2',\n  'B5',\n  'B8',\n  'C3',\n  'C5',\n  'C7',\n  'D4',\n  'D5',\n  'D6',\n  'E1',\n  'E2',\n  'E3',\n  'E4',\n  'E6',\n  'E7',\n  'E8',\n  'E9',\n  'F4',\n  'F5',\n  'F6',\n  'G3',\n  'G5',\n  'G7',\n  'H2',\n  'H5',\n  'H8',\n  'I1',\n  'I5',\n  'I9'},\n 'E6': {'A6',\n  'B6',\n  'C6',\n  'D4',\n  'D5',\n  'D6',\n  'E1',\n  'E2',\n  'E3',\n  'E4',\n  'E5',\n  'E7',\n  'E8',\n  'E9',\n  'F4',\n  'F5',\n  'F6',\n  'G6',\n  'H6',\n  'I6'},\n 'E7': {'A7',\n  'B7',\n  'C7',\n  'D7',\n  'D8',\n  'D9',\n  'E1',\n  'E2',\n  'E3',\n  'E4',\n  'E5',\n  'E6',\n  'E8',\n  'E9',\n  'F7',\n  'F8',\n  'F9',\n  'G7',\n  'H7',\n  'I7'},\n 'E8': {'A8',\n  'B8',\n  'C8',\n  'D7',\n  'D8',\n  'D9',\n  'E1',\n  'E2',\n  'E3',\n  'E4',\n  'E5',\n  'E6',\n  'E7',\n  'E9',\n  'F7',\n  'F8',\n  'F9',\n  'G8',\n  'H8',\n  'I8'},\n 'E9': {'A9',\n  'B9',\n  'C9',\n  'D7',\n  'D8',\n  'D9',\n  'E1',\n  'E2',\n  'E3',\n  'E4',\n  'E5',\n  'E6',\n  'E7',\n  'E8',\n  'F7',\n  'F8',\n  'F9',\n  'G9',\n  'H9',\n  'I9'},\n 'F1': {'A1',\n  'B1',\n  'C1',\n  'D1',\n  'D2',\n  'D3',\n  'E1',\n  'E2',\n  'E3',\n  'F2',\n  'F3',\n  'F4',\n  'F5',\n  'F6',\n  'F7',\n  'F8',\n  'F9',\n  'G1',\n  'H1',\n  'I1'},\n 'F2': {'A2',\n  'B2',\n  'C2',\n  'D1',\n  'D2',\n  'D3',\n  'E1',\n  'E2',\n  'E3',\n  'F1',\n  'F3',\n  'F4',\n  'F5',\n  'F6',\n  'F7',\n  'F8',\n  'F9',\n  'G2',\n  'H2',\n  'I2'},\n 'F3': {'A3',\n  'B3',\n  'C3',\n  'D1',\n  'D2',\n  'D3',\n  'E1',\n  'E2',\n  'E3',\n  'F1',\n  'F2',\n  'F4',\n  'F5',\n  'F6',\n  'F7',\n  'F8',\n  'F9',\n  'G3',\n  'H3',\n  'I3'},\n 'F4': {'A4',\n  'A9',\n  'B4',\n  'B8',\n  'C4',\n  'C7',\n  'D4',\n  'D5',\n  'D6',\n  'E4',\n  'E5',\n  'E6',\n  'F1',\n  'F2',\n  'F3',\n  'F5',\n  'F6',\n  'F7',\n  'F8',\n  'F9',\n  'G3',\n  'G4',\n  'H2',\n  'H4',\n  'I1',\n  'I4'},\n 'F5': {'A5',\n  'B5',\n  'C5',\n  'D4',\n  'D5',\n  'D6',\n  'E4',\n  'E5',\n  'E6',\n  'F1',\n  'F2',\n  'F3',\n  'F4',\n  'F6',\n  'F7',\n  'F8',\n  'F9',\n  'G5',\n  'H5',\n  'I5'},\n 'F6': {'A1',\n  'A6',\n  'B2',\n  'B6',\n  'C3',\n  'C6',\n  'D4',\n  'D5',\n  'D6',\n  'E4',\n  'E5',\n  'E6',\n  'F1',\n  'F2',\n  'F3',\n  'F4',\n  'F5',\n  'F7',\n  'F8',\n  'F9',\n  'G6',\n  'G7',\n  'H6',\n  'H8',\n  'I6',\n  'I9'},\n 'F7': {'A7',\n  'B7',\n  'C7',\n  'D7',\n  'D8',\n  'D9',\n  'E7',\n  'E8',\n  'E9',\n  'F1',\n  'F2',\n  'F3',\n  'F4',\n  'F5',\n  'F6',\n  'F8',\n  'F9',\n  'G7',\n  'H7',\n  'I7'},\n 'F8': {'A8',\n  'B8',\n  'C8',\n  'D7',\n  'D8',\n  'D9',\n  'E7',\n  'E8',\n  'E9',\n  'F1',\n  'F2',\n  'F3',\n  'F4',\n  'F5',\n  'F6',\n  'F7',\n  'F9',\n  'G8',\n  'H8',\n  'I8'},\n 'F9': {'A9',\n  'B9',\n  'C9',\n  'D7',\n  'D8',\n  'D9',\n  'E7',\n  'E8',\n  'E9',\n  'F1',\n  'F2',\n  'F3',\n  'F4',\n  'F5',\n  'F6',\n  'F7',\n  'F8',\n  'G9',\n  'H9',\n  'I9'},\n 'G1': {'A1',\n  'B1',\n  'C1',\n  'D1',\n  'E1',\n  'F1',\n  'G2',\n  'G3',\n  'G4',\n  'G5',\n  'G6',\n  'G7',\n  'G8',\n  'G9',\n  'H1',\n  'H2',\n  'H3',\n  'I1',\n  'I2',\n  'I3'},\n 'G2': {'A2',\n  'B2',\n  'C2',\n  'D2',\n  'E2',\n  'F2',\n  'G1',\n  'G3',\n  'G4',\n  'G5',\n  'G6',\n  'G7',\n  'G8',\n  'G9',\n  'H1',\n  'H2',\n  'H3',\n  'I1',\n  'I2',\n  'I3'},\n 'G3': {'A3',\n  'A9',\n  'B3',\n  'B8',\n  'C3',\n  'C7',\n  'D3',\n  'D6',\n  'E3',\n  'E5',\n  'F3',\n  'F4',\n  'G1',\n  'G2',\n  'G4',\n  'G5',\n  'G6',\n  'G7',\n  'G8',\n  'G9',\n  'H1',\n  'H2',\n  'H3',\n  'I1',\n  'I2',\n  'I3'},\n 'G4': {'A4',\n  'B4',\n  'C4',\n  'D4',\n  'E4',\n  'F4',\n  'G1',\n  'G2',\n  'G3',\n  'G5',\n  'G6',\n  'G7',\n  'G8',\n  'G9',\n  'H4',\n  'H5',\n  'H6',\n  'I4',\n  'I5',\n  'I6'},\n 'G5': {'A5',\n  'B5',\n  'C5',\n  'D5',\n  'E5',\n  'F5',\n  'G1',\n  'G2',\n  'G3',\n  'G4',\n  'G6',\n  'G7',\n  'G8',\n  'G9',\n  'H4',\n  'H5',\n  'H6',\n  'I4',\n  'I5',\n  'I6'},\n 'G6': {'A6',\n  'B6',\n  'C6',\n  'D6',\n  'E6',\n  'F6',\n  'G1',\n  'G2',\n  'G3',\n  'G4',\n  'G5',\n  'G7',\n  'G8',\n  'G9',\n  'H4',\n  'H5',\n  'H6',\n  'I4',\n  'I5',\n  'I6'},\n 'G7': {'A1',\n  'A7',\n  'B2',\n  'B7',\n  'C3',\n  'C7',\n  'D4',\n  'D7',\n  'E5',\n  'E7',\n  'F6',\n  'F7',\n  'G1',\n  'G2',\n  'G3',\n  'G4',\n  'G5',\n  'G6',\n  'G8',\n  'G9',\n  'H7',\n  'H8',\n  'H9',\n  'I7',\n  'I8',\n  'I9'},\n 'G8': {'A8',\n  'B8',\n  'C8',\n  'D8',\n  'E8',\n  'F8',\n  'G1',\n  'G2',\n  'G3',\n  'G4',\n  'G5',\n  'G6',\n  'G7',\n  'G9',\n  'H7',\n  'H8',\n  'H9',\n  'I7',\n  'I8',\n  'I9'},\n 'G9': {'A9',\n  'B9',\n  'C9',\n  'D9',\n  'E9',\n  'F9',\n  'G1',\n  'G2',\n  'G3',\n  'G4',\n  'G5',\n  'G6',\n  'G7',\n  'G8',\n  'H7',\n  'H8',\n  'H9',\n  'I7',\n  'I8',\n  'I9'},\n 'H1': {'A1',\n  'B1',\n  'C1',\n  'D1',\n  'E1',\n  'F1',\n  'G1',\n  'G2',\n  'G3',\n  'H2',\n  'H3',\n  'H4',\n  'H5',\n  'H6',\n  'H7',\n  'H8',\n  'H9',\n  'I1',\n  'I2',\n  'I3'},\n 'H2': {'A2',\n  'A9',\n  'B2',\n  'B8',\n  'C2',\n  'C7',\n  'D2',\n  'D6',\n  'E2',\n  'E5',\n  'F2',\n  'F4',\n  'G1',\n  'G2',\n  'G3',\n  'H1',\n  'H3',\n  'H4',\n  'H5',\n  'H6',\n  'H7',\n  'H8',\n  'H9',\n  'I1',\n  'I2',\n  'I3'},\n 'H3': {'A3',\n  'B3',\n  'C3',\n  'D3',\n  'E3',\n  'F3',\n  'G1',\n  'G2',\n  'G3',\n  'H1',\n  'H2',\n  'H4',\n  'H5',\n  'H6',\n  'H7',\n  'H8',\n  'H9',\n  'I1',\n  'I2',\n  'I3'},\n 'H4': {'A4',\n  'B4',\n  'C4',\n  'D4',\n  'E4',\n  'F4',\n  'G4',\n  'G5',\n  'G6',\n  'H1',\n  'H2',\n  'H3',\n  'H5',\n  'H6',\n  'H7',\n  'H8',\n  'H9',\n  'I4',\n  'I5',\n  'I6'},\n 'H5': {'A5',\n  'B5',\n  'C5',\n  'D5',\n  'E5',\n  'F5',\n  'G4',\n  'G5',\n  'G6',\n  'H1',\n  'H2',\n  'H3',\n  'H4',\n  'H6',\n  'H7',\n  'H8',\n  'H9',\n  'I4',\n  'I5',\n  'I6'},\n 'H6': {'A6',\n  'B6',\n  'C6',\n  'D6',\n  'E6',\n  'F6',\n  'G4',\n  'G5',\n  'G6',\n  'H1',\n  'H2',\n  'H3',\n  'H4',\n  'H5',\n  'H7',\n  'H8',\n  'H9',\n  'I4',\n  'I5',\n  'I6'},\n 'H7': {'A7',\n  'B7',\n  'C7',\n  'D7',\n  'E7',\n  'F7',\n  'G7',\n  'G8',\n  'G9',\n  'H1',\n  'H2',\n  'H3',\n  'H4',\n  'H5',\n  'H6',\n  'H8',\n  'H9',\n  'I7',\n  'I8',\n  'I9'},\n 'H8': {'A1',\n  'A8',\n  'B2',\n  'B8',\n  'C3',\n  'C8',\n  'D4',\n  'D8',\n  'E5',\n  'E8',\n  'F6',\n  'F8',\n  'G7',\n  'G8',\n  'G9',\n  'H1',\n  'H2',\n  'H3',\n  'H4',\n  'H5',\n  'H6',\n  'H7',\n  'H9',\n  'I7',\n  'I8',\n  'I9'},\n 'H9': {'A9',\n  'B9',\n  'C9',\n  'D9',\n  'E9',\n  'F9',\n  'G7',\n  'G8',\n  'G9',\n  'H1',\n  'H2',\n  'H3',\n  'H4',\n  'H5',\n  'H6',\n  'H7',\n  'H8',\n  'I7',\n  'I8',\n  'I9'},\n 'I1': {'A1',\n  'A9',\n  'B1',\n  'B8',\n  'C1',\n  'C7',\n  'D1',\n  'D6',\n  'E1',\n  'E5',\n  'F1',\n  'F4',\n  'G1',\n  'G2',\n  'G3',\n  'H1',\n  'H2',\n  'H3',\n  'I2',\n  'I3',\n  'I4',\n  'I5',\n  'I6',\n  'I7',\n  'I8',\n  'I9'},\n 'I2': {'A2',\n  'B2',\n  'C2',\n  'D2',\n  'E2',\n  'F2',\n  'G1',\n  'G2',\n  'G3',\n  'H1',\n  'H2',\n  'H3',\n  'I1',\n  'I3',\n  'I4',\n  'I5',\n  'I6',\n  'I7',\n  'I8',\n  'I9'},\n 'I3': {'A3',\n  'B3',\n  'C3',\n  'D3',\n  'E3',\n  'F3',\n  'G1',\n  'G2',\n  'G3',\n  'H1',\n  'H2',\n  'H3',\n  'I1',\n  'I2',\n  'I4',\n  'I5',\n  'I6',\n  'I7',\n  'I8',\n  'I9'},\n 'I4': {'A4',\n  'B4',\n  'C4',\n  'D4',\n  'E4',\n  'F4',\n  'G4',\n  'G5',\n  'G6',\n  'H4',\n  'H5',\n  'H6',\n  'I1',\n  'I2',\n  'I3',\n  'I5',\n  'I6',\n  'I7',\n  'I8',\n  'I9'},\n 'I5': {'A5',\n  'B5',\n  'C5',\n  'D5',\n  'E5',\n  'F5',\n  'G4',\n  'G5',\n  'G6',\n  'H4',\n  'H5',\n  'H6',\n  'I1',\n  'I2',\n  'I3',\n  'I4',\n  'I6',\n  'I7',\n  'I8',\n  'I9'},\n 'I6': {'A6',\n  'B6',\n  'C6',\n  'D6',\n  'E6',\n  'F6',\n  'G4',\n  'G5',\n  'G6',\n  'H4',\n  'H5',\n  'H6',\n  'I1',\n  'I2',\n  'I3',\n  'I4',\n  'I5',\n  'I7',\n  'I8',\n  'I9'},\n 'I7': {'A7',\n  'B7',\n  'C7',\n  'D7',\n  'E7',\n  'F7',\n  'G7',\n  'G8',\n  'G9',\n  'H7',\n  'H8',\n  'H9',\n  'I1',\n  'I2',\n  'I3',\n  'I4',\n  'I5',\n  'I6',\n  'I8',\n  'I9'},\n 'I8': {'A8',\n  'B8',\n  'C8',\n  'D8',\n  'E8',\n  'F8',\n  'G7',\n  'G8',\n  'G9',\n  'H7',\n  'H8',\n  'H9',\n  'I1',\n  'I2',\n  'I3',\n  'I4',\n  'I5',\n  'I6',\n  'I7',\n  'I9'},\n 'I9': {'A1',\n  'A9',\n  'B2',\n  'B9',\n  'C3',\n  'C9',\n  'D4',\n  'D9',\n  'E5',\n  'E9',\n  'F6',\n  'F9',\n  'G7',\n  'G8',\n  'G9',\n  'H7',\n  'H8',\n  'H9',\n  'I1',\n  'I2',\n  'I3',\n  'I4',\n  'I5',\n  'I6',\n  'I7',\n  'I8'}}"
     },
     "metadata": {},
     "execution_count": 95
    }
   ],
   "source": [
    "peers2"
   ]
  },
  {
   "cell_type": "code",
   "execution_count": 62,
   "metadata": {},
   "outputs": [],
   "source": [
    "all_digits = '123456789'"
   ]
  },
  {
   "cell_type": "code",
   "execution_count": 69,
   "metadata": {},
   "outputs": [],
   "source": [
    "def grid_values(values:str):\n",
    "    assert(len(boxes)) == (len(values))\n",
    "    board_values = {c[0]: c[1] for c in zip(boxes, values)}\n",
    "    for k,v in board_values.items():\n",
    "        \n",
    "        if v == '.':\n",
    "            board_values[k] = all_digits\n",
    "    \n",
    "    return board_values\n",
    "        "
   ]
  },
  {
   "cell_type": "code",
   "execution_count": 96,
   "metadata": {
    "tags": []
   },
   "outputs": [
    {
     "output_type": "execute_result",
     "data": {
      "text/plain": "{'A1': '123456789',\n 'A2': '123456789',\n 'A3': '3',\n 'A4': '123456789',\n 'A5': '2',\n 'A6': '123456789',\n 'A7': '6',\n 'A8': '123456789',\n 'A9': '123456789',\n 'B1': '9',\n 'B2': '123456789',\n 'B3': '123456789',\n 'B4': '3',\n 'B5': '123456789',\n 'B6': '5',\n 'B7': '123456789',\n 'B8': '123456789',\n 'B9': '1',\n 'C1': '123456789',\n 'C2': '123456789',\n 'C3': '1',\n 'C4': '8',\n 'C5': '123456789',\n 'C6': '6',\n 'C7': '4',\n 'C8': '123456789',\n 'C9': '123456789',\n 'D1': '123456789',\n 'D2': '123456789',\n 'D3': '8',\n 'D4': '1',\n 'D5': '123456789',\n 'D6': '2',\n 'D7': '9',\n 'D8': '123456789',\n 'D9': '123456789',\n 'E1': '7',\n 'E2': '123456789',\n 'E3': '123456789',\n 'E4': '123456789',\n 'E5': '123456789',\n 'E6': '123456789',\n 'E7': '123456789',\n 'E8': '123456789',\n 'E9': '8',\n 'F1': '123456789',\n 'F2': '123456789',\n 'F3': '6',\n 'F4': '7',\n 'F5': '123456789',\n 'F6': '8',\n 'F7': '2',\n 'F8': '123456789',\n 'F9': '123456789',\n 'G1': '123456789',\n 'G2': '123456789',\n 'G3': '2',\n 'G4': '6',\n 'G5': '123456789',\n 'G6': '9',\n 'G7': '5',\n 'G8': '123456789',\n 'G9': '123456789',\n 'H1': '8',\n 'H2': '123456789',\n 'H3': '123456789',\n 'H4': '2',\n 'H5': '123456789',\n 'H6': '3',\n 'H7': '123456789',\n 'H8': '123456789',\n 'H9': '9',\n 'I1': '123456789',\n 'I2': '123456789',\n 'I3': '5',\n 'I4': '123456789',\n 'I5': '1',\n 'I6': '123456789',\n 'I7': '3',\n 'I8': '123456789',\n 'I9': '123456789'}"
     },
     "metadata": {},
     "execution_count": 96
    }
   ],
   "source": [
    "grid_values(grid)"
   ]
  },
  {
   "cell_type": "code",
   "execution_count": 30,
   "metadata": {
    "tags": []
   },
   "outputs": [
    {
     "output_type": "stream",
     "name": "stdout",
     "text": "\n -  -  -  -  -  -  -  -  - \n -  -  -  -  -  -  -  -  - \n -  -  -  -  -  -  -  -  - \n -  -  -  -  -  -  -  -  - \n -  -  -  -  -  -  -  -  - \n -  -  -  -  -  -  -  -  - \n -  -  -  -  -  -  -  -  - \n -  -  -  -  -  -  -  -  - \n -  -  -  -  -  -  -  -  - \n"
    }
   ],
   "source": [
    "print()\n",
    "for r in rows:\n",
    "    \n",
    "    print(\" - \" * len(cols))"
   ]
  },
  {
   "cell_type": "code",
   "execution_count": 73,
   "metadata": {},
   "outputs": [],
   "source": [
    "def display_board(gvalues: dict):\n",
    "    assert type(gvalues) == dict\n",
    "    width = 1 + max([len(gvalues[s]) for s in gvalues.keys()])\n",
    "    line = \"+\".join(['-'*width*3] * 3)\n",
    "    print(width)\n",
    "    print(line)\n",
    "    print()\n",
    "    for r in rows:\n",
    "        print(''.join(gvalues[r+c].center(width)+('|' if c in '36' else '')\n",
    "                      for c in cols))\n",
    "        if r in 'CF': print(line)\n"
   ]
  },
  {
   "cell_type": "code",
   "execution_count": 173,
   "metadata": {
    "tags": []
   },
   "outputs": [
    {
     "output_type": "stream",
     "name": "stdout",
     "text": "10\n------------------------------+------------------------------+------------------------------\n\n123456789 123456789     3     |123456789     2     123456789 |    6     123456789 123456789 \n    9     123456789 123456789 |    3     123456789     5     |123456789 123456789     1     \n123456789 123456789     1     |    8     123456789     6     |    4     123456789 123456789 \n------------------------------+------------------------------+------------------------------\n123456789 123456789     8     |    1     123456789     2     |    9     123456789 123456789 \n    7     123456789 123456789 |123456789 123456789 123456789 |123456789 123456789     8     \n123456789 123456789     6     |    7     123456789     8     |    2     123456789 123456789 \n------------------------------+------------------------------+------------------------------\n123456789 123456789     2     |    6     123456789     9     |    5     123456789 123456789 \n    8     123456789 123456789 |    2     123456789     3     |123456789 123456789     9     \n123456789 123456789     5     |123456789     1     123456789 |    3     123456789 123456789 \n"
    }
   ],
   "source": [
    "display_board(grid_values(grid))"
   ]
  },
  {
   "cell_type": "code",
   "execution_count": 195,
   "metadata": {},
   "outputs": [],
   "source": [
    "starting_values = grid_values(grid)"
   ]
  },
  {
   "cell_type": "code",
   "execution_count": 191,
   "metadata": {},
   "outputs": [],
   "source": [
    "def reduce_board(gvalues: dict):\n",
    "    solved_boxes = [k for k in gvalues.keys() if len(gvalues[k]) == 1]\n",
    "    # print(solved_boxes)\n",
    "\n",
    "    for box in solved_boxes:\n",
    "        solved_num = gvalues[box]\n",
    "        # print(box, solved_num)\n",
    "        _peers = peers[box]\n",
    "        for _box in _peers:\n",
    "            if solved_num in gvalues[_box]:\n",
    "                gvalues[_box] = gvalues[_box].replace(solved_num, '')\n",
    "    \n",
    "    if len([box for box in gvalues.keys() if len(gvalues[box]) == 0]):\n",
    "            return False\n",
    "\n",
    "    return gvalues\n"
   ]
  },
  {
   "cell_type": "code",
   "execution_count": 192,
   "metadata": {
    "tags": []
   },
   "outputs": [
    {
     "output_type": "stream",
     "name": "stdout",
     "text": "7\n---------------------+---------------------+---------------------\n\n   45    4578    3   |   49     2     147  |   6     5789    57  \n   9    24678    47  |   3      47     5   |   78    278     1   \n   25    257     1   |   8      79     6   |   4    23579   2357 \n---------------------+---------------------+---------------------\n  345    345     8   |   1     3456    2   |   9    34567  34567 \n   7    123459   49  |  459   34569    4   |   1    13456    8   \n  1345  13459    6   |   7     3459    8   |   2     1345   345  \n---------------------+---------------------+---------------------\n  134    1347    2   |   6     478     9   |   5     1478    47  \n   8     1467    47  |   2     457     3   |   17    1467    9   \n   46    4679    5   |   4      1      47  |   3    24678   2467 \n"
    }
   ],
   "source": [
    "display_board(reduce_board(starting_values))"
   ]
  },
  {
   "cell_type": "code",
   "execution_count": 198,
   "metadata": {},
   "outputs": [],
   "source": [
    "def search(gvalues: dict):\n",
    "\n",
    "    values = gvalues.copy()\n",
    "    values = reduce_board(values)\n",
    "    print()\n",
    "    if values != False:\n",
    "        display_board(values)\n",
    "    \n",
    "    if values is False:\n",
    "        return False  # Failed earlier\n",
    "\n",
    "    if all(len(values[s]) == 1 for s in boxes):\n",
    "        return values\n",
    "    else:\n",
    "        print(\"board not solved yet, running through search\")\n",
    "\n",
    "    n, s = min( (len(values[s]), s) for s in boxes if len(values[s]) > 1 )\n",
    "\n",
    "    for val in values[s]:\n",
    "        new_sudoku = values.copy()\n",
    "        new_sudoku[s] = val\n",
    "        attempt = search(new_sudoku)\n",
    "\n",
    "        if attempt:\n",
    "            return attempt\n",
    "\n",
    "        "
   ]
  },
  {
   "cell_type": "code",
   "execution_count": 199,
   "metadata": {
    "tags": []
   },
   "outputs": [
    {
     "output_type": "stream",
     "name": "stdout",
     "text": "10\n------------------------------+------------------------------+------------------------------\n\n123456789 123456789     3     |123456789     2     123456789 |    6     123456789 123456789 \n    9     123456789 123456789 |    3     123456789     5     |123456789 123456789     1     \n123456789 123456789     1     |    8     123456789     6     |    4     123456789 123456789 \n------------------------------+------------------------------+------------------------------\n123456789 123456789     8     |    1     123456789     2     |    9     123456789 123456789 \n    7     123456789 123456789 |123456789 123456789 123456789 |123456789 123456789     8     \n123456789 123456789     6     |    7     123456789     8     |    2     123456789 123456789 \n------------------------------+------------------------------+------------------------------\n123456789 123456789     2     |    6     123456789     9     |    5     123456789 123456789 \n    8     123456789 123456789 |    2     123456789     3     |123456789 123456789     9     \n123456789 123456789     5     |123456789     1     123456789 |    3     123456789 123456789 \n"
    }
   ],
   "source": [
    "display_board(starting_values)"
   ]
  },
  {
   "cell_type": "code",
   "execution_count": 200,
   "metadata": {
    "tags": []
   },
   "outputs": [
    {
     "output_type": "stream",
     "name": "stdout",
     "text": "\n7\n---------------------+---------------------+---------------------\n\n   45    4578    3   |   49     2     147  |   6     5789    57  \n   9    24678    47  |   3      47     5   |   78    278     1   \n   25    257     1   |   8      79     6   |   4    23579   2357 \n---------------------+---------------------+---------------------\n  345    345     8   |   1     3456    2   |   9    34567  34567 \n   7    123459   49  |  459   34569    4   |   1    13456    8   \n  1345  13459    6   |   7     3459    8   |   2     1345   345  \n---------------------+---------------------+---------------------\n  134    1347    2   |   6     478     9   |   5     1478    47  \n   8     1467    47  |   2     457     3   |   17    1467    9   \n   46    4679    5   |   4      1      47  |   3    24678   2467 \nboard not solved yet, running through search\n\n6\n------------------+------------------+------------------\n\n  4    578    3   |  9     2     17  |  6    5789   57  \n  9    2678   7   |  3     47    5   |  78   278    1   \n  25   257    1   |  8     79    6   |  4   23579  2357 \n------------------+------------------+------------------\n  35   345    8   |  1    356    2   |  9   34567 34567 \n  7    2359   9   |  59   3569   4   |  1    356    8   \n 135  13459   6   |  7    359    8   |  2    345   345  \n------------------+------------------+------------------\n  13   1347   2   |  6     78    9   |  5    1478   47  \n  8    1467   47  |  2     57    3   |  7    1467   9   \n  6    679    5   |  4     1     7   |  3    2678  267  \nboard not solved yet, running through search\n\n6\n------------------+------------------+------------------\n\n  4     58    3   |  9     2     1   |  6    578    57  \n  9    268    7   |  3     4     5   |  8     28    1   \n  25    25    1   |  8     7     6   |  4   23579  2357 \n------------------+------------------+------------------\n  35   345    8   |  1    356    2   |  9   34567 34567 \n  7    235    9   |  5    356    4   |  1    356    8   \n 135   1345   6   |  7    359    8   |  2    345   345  \n------------------+------------------+------------------\n  13   1347   2   |  6     8     9   |  5    148    4   \n  8     14    4   |  2     5     3   |  7    146    9   \n  6     9     5   |  4     1     7   |  3     28    2   \nboard not solved yet, running through search\n\n6\n------------------+------------------+------------------\n\n  4     5     3   |  9     2     1   |  6     7     7   \n  9     26    7   |  3     4     5   |  8     2     1   \n  2     2     1   |  8     7     6   |  4    2359   35  \n------------------+------------------+------------------\n  35    34    8   |  1     36    2   |  9   34567  3567 \n  7     23    9   |  5     36    4   |  1     36    8   \n 135   134    6   |  7     39    8   |  2    345    35  \n------------------+------------------+------------------\n  13   137    2   |  6     8     9   |  5     1     4   \n  8     1     4   |  2     5     3   |  7     16    9   \n  6     9     5   |  4     1     7   |  3     8     2   \nboard not solved yet, running through search\n\n\n\n6\n------------------+------------------+------------------\n\n  4     8     3   |  9     2     1   |  6     57    57  \n  9     26    7   |  3     4     5   |  8     2     1   \n  25    25    1   |  8     7     6   |  4    2359   35  \n------------------+------------------+------------------\n  35   345    8   |  1     36    2   |  9   34567  3567 \n  7     23    9   |  5     36    4   |  1     36    8   \n 135   1345   6   |  7     39    8   |  2    345    35  \n------------------+------------------+------------------\n  13   137    2   |  6     8     9   |  5     1     4   \n  8     1     4   |  2     5     3   |  7     16    9   \n  6     9     5   |  4     1     7   |  3     8     2   \nboard not solved yet, running through search\n\n5\n---------------+---------------+---------------\n\n  4    8    3  |  9    2    1  |  6    5    7  \n  9    6    7  |  3    4    5  |  8    2    1  \n  25   25   1  |  8    7    6  |  4    39   3  \n---------------+---------------+---------------\n  35  345   8  |  1    36   2  |  9   3467 3567\n  7    23   9  |  5    36   4  |  1    36   8  \n 135  345   6  |  7    39   8  |  2    34   35 \n---------------+---------------+---------------\n  3    37   2  |  6    8    9  |  5    1    4  \n  8    1    4  |  2    5    3  |  7    6    9  \n  6    9    5  |  4    1    7  |  3    8    2  \nboard not solved yet, running through search\n\n4\n------------+------------+------------\n\n 4   8   3  | 9   2   1  | 6   5   7  \n 9   6   7  | 3   4   5  | 8   2   1  \n 2   5   1  | 8   7   6  | 4   9   3  \n------------+------------+------------\n 5  345  8  | 1   36  2  | 9  347  56 \n 7   23  9  | 5   36  4  | 1   3   8  \n 15 345  6  | 7   39  8  | 2   34  5  \n------------+------------+------------\n 3   7   2  | 6   8   9  | 5   1   4  \n 8   1   4  | 2   5   3  | 7   6   9  \n 6   9   5  | 4   1   7  | 3   8   2  \nboard not solved yet, running through search\n\n3\n---------+---------+---------\n\n 4  8  3 | 9  2  1 | 6  5  7 \n 9  6  7 | 3  4  5 | 8  2  1 \n 2  5  1 | 8  7  6 | 4  9  3 \n---------+---------+---------\n 5  4  8 | 1  3  2 | 9  47 6 \n 7  2  9 | 5  6  4 | 1  3  8 \n 1  34 6 | 7  9  8 | 2  4  5 \n---------+---------+---------\n 3  7  2 | 6  8  9 | 5  1  4 \n 8  1  4 | 2  5  3 | 7  6  9 \n 6  9  5 | 4  1  7 | 3  8  2 \nboard not solved yet, running through search\n\n\n2\n------+------+------\n\n4 8 3 |9 2 1 |6 5 7 \n9 6 7 |3 4 5 |8 2 1 \n2 5 1 |8 7 6 |4 9 3 \n------+------+------\n5 4 8 |1 3 2 |9 7 6 \n7 2 9 |5 6 4 |1 3 8 \n1 3 6 |7 9 8 |2 4 5 \n------+------+------\n3 7 2 |6 8 9 |5 1 4 \n8 1 4 |2 5 3 |7 6 9 \n6 9 5 |4 1 7 |3 8 2 \n"
    }
   ],
   "source": [
    "final_vals = search(starting_values)"
   ]
  },
  {
   "cell_type": "code",
   "execution_count": 136,
   "metadata": {},
   "outputs": [],
   "source": [
    "values = reduce_board(starting_values)\n",
    "n, s = min( (len(values[s]), s) for s in boxes if len(values[s]) > 1 )"
   ]
  },
  {
   "cell_type": "code",
   "execution_count": 137,
   "metadata": {},
   "outputs": [
    {
     "output_type": "execute_result",
     "data": {
      "text/plain": "(2, 'A1')"
     },
     "metadata": {},
     "execution_count": 137
    }
   ],
   "source": [
    "n,s"
   ]
  },
  {
   "cell_type": "code",
   "execution_count": 138,
   "metadata": {},
   "outputs": [
    {
     "output_type": "execute_result",
     "data": {
      "text/plain": "'45'"
     },
     "metadata": {},
     "execution_count": 138
    }
   ],
   "source": [
    "values[s]"
   ]
  },
  {
   "cell_type": "code",
   "execution_count": null,
   "metadata": {},
   "outputs": [],
   "source": []
  }
 ]
}