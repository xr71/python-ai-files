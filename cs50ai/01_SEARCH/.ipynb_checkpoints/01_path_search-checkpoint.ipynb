{
 "cells": [
  {
   "cell_type": "code",
   "execution_count": 92,
   "id": "interested-mississippi",
   "metadata": {},
   "outputs": [],
   "source": [
    "from collections import Set"
   ]
  },
  {
   "cell_type": "code",
   "execution_count": 208,
   "id": "blocked-spell",
   "metadata": {},
   "outputs": [],
   "source": [
    "# we should keep track of what states we have already explored\n",
    "\n",
    "\n",
    "class Frontier:\n",
    "    def __init__(self):\n",
    "        self.frontier = []\n",
    "    \n",
    "    def add(self, node):\n",
    "        self.frontier.append(node)\n",
    "        \n",
    "    def empty(self):\n",
    "        return len(self.frontier) == 0\n",
    "        \n",
    "    def remove(self):\n",
    "        if self.empty():\n",
    "            raise Exception(\"frontier is empty\")\n",
    "        else:\n",
    "            _node = self.frontier[-1]\n",
    "            self.frontier = self.frontier[:-1]\n",
    "            return _node"
   ]
  },
  {
   "cell_type": "code",
   "execution_count": 209,
   "id": "physical-surge",
   "metadata": {},
   "outputs": [],
   "source": [
    "class Node:\n",
    "    def __init__(self, name=\"\"):\n",
    "        self.parent = []\n",
    "        self.child = []\n",
    "        self.name = name\n",
    "        \n",
    "    def add_parent(self, otherNode):\n",
    "        self.parent.append(otherNode)\n",
    "    \n",
    "    def add_child(self, otherNode):\n",
    "        self.child.append(otherNode)\n",
    "        \n",
    "        otherNode.add_parent(self)\n",
    "    \n",
    "    @property\n",
    "    def get_parent(self):\n",
    "        \n",
    "        return \", \".join([x.name for x in self.parent])\n",
    "    \n",
    "    @property\n",
    "    def get_child(self):\n",
    "        \n",
    "        return \", \".join([x.name for x in self.child])\n"
   ]
  },
  {
   "cell_type": "code",
   "execution_count": 210,
   "id": "continent-significance",
   "metadata": {},
   "outputs": [],
   "source": [
    "A = Node(\"A\")\n",
    "B = Node(\"B\")\n",
    "C = Node(\"C\")\n",
    "D = Node(\"D\")\n",
    "E = Node(\"E\")\n",
    "F = Node(\"F\")"
   ]
  },
  {
   "cell_type": "code",
   "execution_count": null,
   "id": "august-insertion",
   "metadata": {},
   "outputs": [],
   "source": []
  },
  {
   "cell_type": "code",
   "execution_count": null,
   "id": "distant-potential",
   "metadata": {},
   "outputs": [],
   "source": []
  },
  {
   "cell_type": "code",
   "execution_count": 211,
   "id": "still-sodium",
   "metadata": {},
   "outputs": [],
   "source": [
    "\"\"\"\n",
    "\n",
    "A --> B --> C --> E\n",
    "      B --> D --> F\n",
    "\n",
    "\"\"\"\n",
    "\n",
    "A.add_child(B)\n",
    "B.add_child(C)\n",
    "B.add_child(D)\n",
    "C.add_child(E)\n",
    "D.add_child(F)"
   ]
  },
  {
   "cell_type": "code",
   "execution_count": null,
   "id": "declared-budget",
   "metadata": {},
   "outputs": [],
   "source": []
  },
  {
   "cell_type": "code",
   "execution_count": 212,
   "id": "southeast-asset",
   "metadata": {},
   "outputs": [],
   "source": [
    "ff = Frontier()"
   ]
  },
  {
   "cell_type": "code",
   "execution_count": 213,
   "id": "manual-candle",
   "metadata": {},
   "outputs": [
    {
     "data": {
      "text/plain": [
       "[]"
      ]
     },
     "execution_count": 213,
     "metadata": {},
     "output_type": "execute_result"
    }
   ],
   "source": [
    "ff.frontier"
   ]
  },
  {
   "cell_type": "code",
   "execution_count": 214,
   "id": "governing-screen",
   "metadata": {},
   "outputs": [],
   "source": [
    "ff.add(A)"
   ]
  },
  {
   "cell_type": "code",
   "execution_count": 215,
   "id": "noted-virgin",
   "metadata": {},
   "outputs": [
    {
     "data": {
      "text/plain": [
       "[<__main__.Node at 0x7f8518e80e48>]"
      ]
     },
     "execution_count": 215,
     "metadata": {},
     "output_type": "execute_result"
    }
   ],
   "source": [
    "ff.frontier"
   ]
  },
  {
   "cell_type": "code",
   "execution_count": 216,
   "id": "public-disability",
   "metadata": {},
   "outputs": [
    {
     "data": {
      "text/plain": [
       "<__main__.Node at 0x7f8518e80e48>"
      ]
     },
     "execution_count": 216,
     "metadata": {},
     "output_type": "execute_result"
    }
   ],
   "source": [
    "ff.remove()"
   ]
  },
  {
   "cell_type": "code",
   "execution_count": 217,
   "id": "thorough-jacob",
   "metadata": {},
   "outputs": [
    {
     "data": {
      "text/plain": [
       "[]"
      ]
     },
     "execution_count": 217,
     "metadata": {},
     "output_type": "execute_result"
    }
   ],
   "source": [
    "ff.frontier"
   ]
  },
  {
   "cell_type": "code",
   "execution_count": null,
   "id": "technical-empire",
   "metadata": {},
   "outputs": [],
   "source": []
  },
  {
   "cell_type": "code",
   "execution_count": null,
   "id": "relative-motor",
   "metadata": {},
   "outputs": [],
   "source": []
  },
  {
   "cell_type": "code",
   "execution_count": null,
   "id": "built-scientist",
   "metadata": {},
   "outputs": [],
   "source": []
  },
  {
   "cell_type": "code",
   "execution_count": 225,
   "id": "human-warning",
   "metadata": {},
   "outputs": [],
   "source": [
    "def solve(F, start_node, goal_str):\n",
    "    num_explored = 0\n",
    "    explored_set = set()\n",
    "    \n",
    "    # init frontier state\n",
    "    F.add(start_node)\n",
    "    \n",
    "    while True:\n",
    "        if F.empty():\n",
    "            raise Exception(\" no solution found \")\n",
    "        else:\n",
    "            this_node = F.remove()\n",
    "            num_explored += 1\n",
    "            print(\"exploring currently:  \", this_node.name)\n",
    "            \n",
    "            if this_node.name == goal_str:\n",
    "                \n",
    "                return num_explored, explored_set\n",
    "            \n",
    "            else:\n",
    "                explored_set.add(this_node)\n",
    "                for c in this_node.child:\n",
    "                    F.add(c)\n",
    "                    "
   ]
  },
  {
   "cell_type": "code",
   "execution_count": 226,
   "id": "integrated-pathology",
   "metadata": {},
   "outputs": [
    {
     "name": "stdout",
     "output_type": "stream",
     "text": [
      "exploring currently:   A\n",
      "exploring currently:   B\n",
      "exploring currently:   D\n",
      "exploring currently:   F\n",
      "exploring currently:   C\n",
      "exploring currently:   E\n"
     ]
    }
   ],
   "source": [
    "sol = solve(ff, A, \"E\")"
   ]
  },
  {
   "cell_type": "code",
   "execution_count": 227,
   "id": "helpful-segment",
   "metadata": {},
   "outputs": [
    {
     "data": {
      "text/plain": [
       "6"
      ]
     },
     "execution_count": 227,
     "metadata": {},
     "output_type": "execute_result"
    }
   ],
   "source": [
    "sol[0]"
   ]
  },
  {
   "cell_type": "code",
   "execution_count": 228,
   "id": "persistent-multimedia",
   "metadata": {},
   "outputs": [
    {
     "data": {
      "text/plain": [
       "['F', 'C', 'D', 'A', 'B']"
      ]
     },
     "execution_count": 228,
     "metadata": {},
     "output_type": "execute_result"
    }
   ],
   "source": [
    "[x.name for x in sol[1]]"
   ]
  },
  {
   "cell_type": "code",
   "execution_count": null,
   "id": "mental-instruction",
   "metadata": {},
   "outputs": [],
   "source": []
  },
  {
   "cell_type": "code",
   "execution_count": null,
   "id": "exact-option",
   "metadata": {},
   "outputs": [],
   "source": []
  },
  {
   "cell_type": "code",
   "execution_count": 229,
   "id": "drawn-income",
   "metadata": {},
   "outputs": [],
   "source": [
    "# an alternative type of frontier search\n",
    "\n",
    "\n",
    "class Frontier:\n",
    "    def __init__(self):\n",
    "        self.frontier = []\n",
    "    \n",
    "    def add(self, node):\n",
    "        self.frontier.append(node)\n",
    "        \n",
    "    def empty(self):\n",
    "        return len(self.frontier) == 0\n",
    "        \n",
    "    def remove(self):\n",
    "        if self.empty():\n",
    "            raise Exception(\"frontier is empty\")\n",
    "        else:\n",
    "            _node = self.frontier[0]\n",
    "            self.frontier = self.frontier[1:]\n",
    "            return _node"
   ]
  },
  {
   "cell_type": "code",
   "execution_count": 230,
   "id": "ethical-customs",
   "metadata": {},
   "outputs": [],
   "source": [
    "ff = Frontier()"
   ]
  },
  {
   "cell_type": "code",
   "execution_count": 231,
   "id": "fundamental-glass",
   "metadata": {},
   "outputs": [
    {
     "name": "stdout",
     "output_type": "stream",
     "text": [
      "exploring currently:   A\n",
      "exploring currently:   B\n",
      "exploring currently:   C\n",
      "exploring currently:   D\n",
      "exploring currently:   E\n"
     ]
    },
    {
     "data": {
      "text/plain": [
       "(5,\n",
       " {<__main__.Node at 0x7f8518e80240>,\n",
       "  <__main__.Node at 0x7f8518e80860>,\n",
       "  <__main__.Node at 0x7f8518e80ba8>,\n",
       "  <__main__.Node at 0x7f8518e80e48>})"
      ]
     },
     "execution_count": 231,
     "metadata": {},
     "output_type": "execute_result"
    }
   ],
   "source": [
    "solve(ff, A, \"E\")"
   ]
  },
  {
   "cell_type": "code",
   "execution_count": null,
   "id": "twenty-humidity",
   "metadata": {},
   "outputs": [],
   "source": []
  }
 ],
 "metadata": {
  "kernelspec": {
   "display_name": "Python 3.5.4 64-bit ('aindenv': conda)",
   "language": "python",
   "name": "python35464bitaindenvconda4c9f06bdf56b441eb5e13ab3c1881a00"
  },
  "language_info": {
   "codemirror_mode": {
    "name": "ipython",
    "version": 3
   },
   "file_extension": ".py",
   "mimetype": "text/x-python",
   "name": "python",
   "nbconvert_exporter": "python",
   "pygments_lexer": "ipython3",
   "version": "3.5.6"
  }
 },
 "nbformat": 4,
 "nbformat_minor": 5
}
